{
 "cells": [
  {
   "cell_type": "code",
   "execution_count": 2,
   "id": "f24bcca9",
   "metadata": {},
   "outputs": [
    {
     "name": "stdout",
     "output_type": "stream",
     "text": [
      "Collecting uproot\n",
      "  Downloading uproot-4.1.7-py2.py3-none-any.whl (298 kB)\n",
      "\u001b[K     |████████████████████████████████| 298 kB 4.6 MB/s eta 0:00:01\n",
      "\u001b[?25hCollecting awkward\n",
      "  Using cached awkward-1.5.1-cp39-cp39-manylinux2010_x86_64.whl (14.1 MB)\n",
      "Requirement already satisfied: numpy in /opt/conda/lib/python3.9/site-packages (from uproot) (1.21.3)\n",
      "Requirement already satisfied: setuptools in /opt/conda/lib/python3.9/site-packages (from uproot) (58.2.0)\n",
      "Installing collected packages: uproot, awkward\n",
      "Successfully installed awkward-1.5.1 uproot-4.1.7\n",
      "Note: you may need to restart the kernel to use updated packages.\n"
     ]
    }
   ],
   "source": [
    "pip install uproot awkward"
   ]
  },
  {
   "cell_type": "code",
   "execution_count": 3,
   "id": "f9ba8f61",
   "metadata": {},
   "outputs": [],
   "source": [
    "import pandas \n",
    "import uproot\n",
    "import awkward\n",
    "import matplotlib.pyplot as plt\n",
    "import numpy as np"
   ]
  },
  {
   "cell_type": "code",
   "execution_count": 7,
   "id": "e2be5bcd",
   "metadata": {},
   "outputs": [],
   "source": [
    "file = uproot.open('trkana_signal.root')\n",
    "file.keys()\n",
    "tree = file['TrkAna;1']['trkana;1']\n",
    "branch = np.array(tree['dem.'])\n",
    "t = branch['status']\n",
    "t2= branch['mom'] #values of momentum\n",
    "\n"
   ]
  },
  {
   "cell_type": "code",
   "execution_count": 25,
   "id": "d88e9ff3",
   "metadata": {},
   "outputs": [
    {
     "name": "stdout",
     "output_type": "stream",
     "text": [
      "[[-1000.         -1000.        ]\n",
      " [-1000.         -1000.        ]\n",
      " [-1000.         -1000.        ]\n",
      " ...\n",
      " [    2.           104.59921265]\n",
      " [    2.           104.63299561]\n",
      " [    2.           104.73020172]]\n",
      "103.41762313613663\n"
     ]
    }
   ],
   "source": [
    "zipped_t = zip(t,t2)\n",
    "sorted_t= sorted(zipped_t) #sorts status and dem together in 2d list. Column 1 = status, Column 2 = dem\n",
    "\n",
    "\n",
    "x = np.array(sorted_t) #turns sorted values into an array\n",
    "print(x)\n",
    "\n",
    "vals = x[x[:,0] > 0] #select rows where only positive values of status is returned\n",
    "\n",
    "momentum_vals = vals[:,1] #values to be plotted\n",
    "print(np.mean(momentum_vals))"
   ]
  },
  {
   "cell_type": "code",
   "execution_count": 29,
   "id": "4ac3889f",
   "metadata": {},
   "outputs": [
    {
     "name": "stdout",
     "output_type": "stream",
     "text": [
      "103.21025229889213\n"
     ]
    },
    {
     "data": {
      "text/plain": [
       "(array([  1.,   0.,   1.,   0.,   0.,   0.,   0.,   0.,   0.,   0.,   0.,\n",
       "          1.,   1.,   1.,   2.,   3.,   5.,  26., 265.,   3.]),\n",
       " array([ 53.12668991,  55.87404613,  58.62140236,  61.36875858,\n",
       "         64.11611481,  66.86347103,  69.61082726,  72.35818348,\n",
       "         75.1055397 ,  77.85289593,  80.60025215,  83.34760838,\n",
       "         86.0949646 ,  88.84232082,  91.58967705,  94.33703327,\n",
       "         97.0843895 ,  99.83174572, 102.57910194, 105.32645817,\n",
       "        108.07381439]),\n",
       " <BarContainer object of 20 artists>)"
      ]
     },
     "execution_count": 29,
     "metadata": {},
     "output_type": "execute_result"
    },
    {
     "data": {
      "image/png": "[encoded data removed]",
      "text/plain": [
       "<Figure size 432x288 with 1 Axes>"
      ]
     },
     "metadata": {
      "needs_background": "light"
     },
     "output_type": "display_data"
    }
   ],
   "source": [
    "file_bkg= uproot.open(\"trkana_signalAndBkg.root\")\n",
    "tree_bkg = file_bkg['TrkAna']['trkana;1']\n",
    "branches2 = tree_bkg.arrays()['dem.']\n",
    "tbkg= branches2['status']\n",
    "tbkg2 = branches2['mom']\n",
    "\n",
    "zipped_bkg = zip(tbkg,tbkg2)\n",
    "sorted_bkg= sorted(zipped_bkg)\n",
    "x_bkg = np.array(sorted_bkg)\n",
    "vals_bkg = x_bkg[x_bkg[:,0] > 0]\n",
    "momentum_vals_bkg = vals_bkg[:,1]\n",
    "\n",
    "print(np.mean(momentum_vals_bkg))\n",
    "\n",
    "plt.hist(momentum_vals, bins= 20, label = \"without background\", alpha =.5)\n",
    "plt.hist(momentum_vals_bkg, bins= 20, label = \"with background\", alpha = .5)\n"
   ]
  },
  {
   "cell_type": "code",
   "execution_count": 100,
   "id": "56208690",
   "metadata": {},
   "outputs": [
    {
     "name": "stdout",
     "output_type": "stream",
     "text": [
      "\n",
      " mean e- fit momentum(without background): 103.41762313613663\n",
      "Standard deviation e- momentum fit (without background): 2.9102938420352182\n",
      " \n",
      " mean e- fit momentum (with background): 103.21025229889213\n",
      "Standard deviation e- fit momentum (with background): 4.429148071359829\n",
      " \n",
      " mean mu- fit momentum (with background): 103.84624478896218\n",
      "Standard deviation mu- fit momentum (with background): 2.9370215469212835\n",
      " \n",
      " mean mu- fit momentum(without background): 103.8179066767458\n",
      "Standard deviation mu- momentum fit (without background): 3.6751043652672575\n"
     ]
    },
    {
     "data": {
      "image/png": "[encoded data removed]",
      "text/plain": [
       "<Figure size 432x288 with 2 Axes>"
      ]
     },
     "metadata": {
      "needs_background": "light"
     },
     "output_type": "display_data"
    }
   ],
   "source": [
    "#UEM\n",
    "\n",
    "branch_mu = np.array(tree['dmm.'])\n",
    "t_mu=branch_mu['status']\n",
    "t_mu2=branch_mu['mom']\n",
    "\n",
    "zipped_mu = zip(t_mu,t_mu2)\n",
    "sorted_mu= sorted(zipped_mu)\n",
    "x_mu = np.array(sorted_mu)\n",
    "vals_mu = x_mu[x_mu[:,0] > 0]\n",
    "\n",
    "momentum_vals_mu = vals_mu[:,1]\n",
    "\n",
    "#UEM BKG\n",
    "branch_mu2 = np.array(tree_bkg['dmm.'])\n",
    "t_mu_bkg=branch_mu2['status']\n",
    "t_mu2_bkg=branch_mu2['mom']\n",
    "zipped_mu_bkg = zip(t_mu_bkg,t_mu2_bkg)\n",
    "sorted_mu_bkg= sorted(zipped_mu_bkg)\n",
    "x_mu_bkg = np.array(sorted_mu_bkg)\n",
    "vals_mu_bkg = x_mu_bkg[x_mu_bkg[:,0] > 0]\n",
    "momentum_vals_mu_bkg = vals_mu_bkg[:,1]\n",
    "fig, axs = plt.subplots(2)\n",
    "\n",
    "axs[0].hist(momentum_vals, bins= 20, label = \"no background \", alpha =.5)\n",
    "axs[1].hist(momentum_vals_mu, bins = 20, label = 'no background', alpha = .5)\n",
    "axs[0].set_title(\"e- momentum fit\")\n",
    "\n",
    "axs[0].hist(momentum_vals_bkg, bins= 20, label = \"with background \", alpha = .5)\n",
    "axs[1].hist(momentum_vals_mu_bkg, bins = 20, label = 'with background', alpha = .5)\n",
    "axs[1].set_title(\"mu- momentum fit\")\n",
    "\n",
    "axs[0].legend()\n",
    "axs[1].legend()\n",
    "fig.tight_layout()\n",
    "\n",
    "print(\"\\n mean e- fit momentum(without background):\", np.mean(momentum_vals))\n",
    "print(\"Standard deviation e- momentum fit (without background):\", np.std(momentum_vals) )\n",
    "\n",
    "print(\" \\n mean e- fit momentum (with background):\", np.mean(momentum_vals_bkg))\n",
    "print(\"Standard deviation e- fit momentum (with background):\", np.std(momentum_vals_bkg))\n",
    "\n",
    "print(\" \\n mean mu- fit momentum (with background):\", np.mean(momentum_vals_mu))\n",
    "print(\"Standard deviation mu- fit momentum (with background):\", np.std(momentum_vals_mu))\n",
    "\n",
    "print(\" \\n mean mu- fit momentum(without background):\", np.mean(momentum_vals_mu_bkg))\n",
    "print(\"Standard deviation mu- momentum fit (without background):\", np.std(momentum_vals_mu_bkg) )\n",
    "\n"
   ]
  },
  {
   "cell_type": "code",
   "execution_count": null,
   "id": "c838cf9e",
   "metadata": {},
   "outputs": [],
   "source": []
  }
 ],
 "metadata": {
  "kernelspec": {
   "display_name": "Python 3 (ipykernel)",
   "language": "python",
   "name": "python3"
  },
  "language_info": {
   "codemirror_mode": {
    "name": "ipython",
    "version": 3
   },
   "file_extension": ".py",
   "mimetype": "text/x-python",
   "name": "python",
   "nbconvert_exporter": "python",
   "pygments_lexer": "ipython3",
   "version": "3.9.7"
  }
 },
 "nbformat": 4,
 "nbformat_minor": 5
}
